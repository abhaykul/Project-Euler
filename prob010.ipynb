{
 "cells": [
  {
   "cell_type": "code",
   "execution_count": 5,
   "metadata": {},
   "outputs": [
    {
     "name": "stdout",
     "output_type": "stream",
     "text": [
      "142913828922\n"
     ]
    }
   ],
   "source": [
    "# The sum of the primes below 10 is 2 + 3 + 5 + 7 = 17.\n",
    "# Find the sum of all the primes below two million.\n",
    "\n",
    "# Using Sieve of Eratosthenes algorithm\n",
    "sieve = [True] * 2000000    \n",
    "def mark(sieve, x):\n",
    "    for i in range(x+x, len(sieve), x):\n",
    "        sieve[i] = False\n",
    "for x in range(2, int(len(sieve) ** 0.5) + 1):\n",
    "    if sieve[x]:\n",
    "        mark(sieve, x)\n",
    "print(sum(i for i in range(2, len(sieve)) if sieve[i]))"
   ]
  },
  {
   "cell_type": "code",
   "execution_count": null,
   "metadata": {},
   "outputs": [],
   "source": []
  }
 ],
 "metadata": {
  "kernelspec": {
   "display_name": "Python 3",
   "language": "python",
   "name": "python3"
  },
  "language_info": {
   "codemirror_mode": {
    "name": "ipython",
    "version": 3
   },
   "file_extension": ".py",
   "mimetype": "text/x-python",
   "name": "python",
   "nbconvert_exporter": "python",
   "pygments_lexer": "ipython3",
   "version": "3.6.5rc1"
  }
 },
 "nbformat": 4,
 "nbformat_minor": 2
}
