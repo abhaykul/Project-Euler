{
 "cells": [
  {
   "cell_type": "code",
   "execution_count": 7,
   "metadata": {},
   "outputs": [
    {
     "name": "stdout",
     "output_type": "stream",
     "text": [
      "840\n"
     ]
    }
   ],
   "source": [
    "# If p is the perimeter of a right angle triangle with integral length sides, {a,b,c},\n",
    "# there are exactly three solutions for p = 120.\n",
    "# {20,48,52}, {24,45,51}, {30,40,50}\n",
    "# For which value of p ≤ 1000, is the number of solutions maximised?\n",
    "def main():\n",
    "    ans = max(range(1, 1001), key=triangle)\n",
    "    print(ans)\n",
    "\n",
    "\n",
    "def triangle(p):\n",
    "    result = 0\n",
    "    for a in range(1, p+1):\n",
    "        for b in range(a,(p-a)//2+1):\n",
    "            c = p-a-b\n",
    "            if a*a + b*b == c*c:\n",
    "                result += 1\n",
    "    return result\n",
    "\n",
    "if __name__ == \"__main__\":\n",
    "    main()\n"
   ]
  },
  {
   "cell_type": "code",
   "execution_count": null,
   "metadata": {},
   "outputs": [],
   "source": []
  }
 ],
 "metadata": {
  "kernelspec": {
   "display_name": "Python 3",
   "language": "python",
   "name": "python3"
  },
  "language_info": {
   "codemirror_mode": {
    "name": "ipython",
    "version": 3
   },
   "file_extension": ".py",
   "mimetype": "text/x-python",
   "name": "python",
   "nbconvert_exporter": "python",
   "pygments_lexer": "ipython3",
   "version": "3.6.5rc1"
  }
 },
 "nbformat": 4,
 "nbformat_minor": 2
}
