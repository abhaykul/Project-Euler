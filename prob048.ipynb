{
 "cells": [
  {
   "cell_type": "code",
   "execution_count": 1,
   "metadata": {},
   "outputs": [
    {
     "name": "stdout",
     "output_type": "stream",
     "text": [
      "9110846700\n"
     ]
    }
   ],
   "source": [
    "# The series, 1^1 + 2^2 + 3^3 + ... + 10^10 = 10405071317.\n",
    "\n",
    "# Find the last ten digits of the series, 1^1 + 2^2 + 3^3 + ... + 1000^1000.\n",
    "result = 0\n",
    "for i in range(1,1001):\n",
    "    self = i**i\n",
    "    result += self\n",
    "ans = str(result)\n",
    "print(ans[-10:])"
   ]
  },
  {
   "cell_type": "code",
   "execution_count": null,
   "metadata": {},
   "outputs": [],
   "source": []
  }
 ],
 "metadata": {
  "kernelspec": {
   "display_name": "Python 3",
   "language": "python",
   "name": "python3"
  },
  "language_info": {
   "codemirror_mode": {
    "name": "ipython",
    "version": 3
   },
   "file_extension": ".py",
   "mimetype": "text/x-python",
   "name": "python",
   "nbconvert_exporter": "python",
   "pygments_lexer": "ipython3",
   "version": "3.6.5rc1"
  }
 },
 "nbformat": 4,
 "nbformat_minor": 2
}
