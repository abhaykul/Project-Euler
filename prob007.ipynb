{
 "cells": [
  {
   "cell_type": "code",
   "execution_count": 5,
   "metadata": {},
   "outputs": [
    {
     "name": "stdout",
     "output_type": "stream",
     "text": [
      "The 10001'st Prime number is:  104743\n"
     ]
    }
   ],
   "source": [
    "# By listing the first six prime numbers: 2, 3, 5, 7, 11, and 13, we can see that the 6th prime is 13.\n",
    "\n",
    "# What is the 10 001st prime number\n",
    "\n",
    "\n",
    "# Python program to print all primes smaller than or equal to \n",
    "# n using Sieve of Eratosthenes \n",
    "  \n",
    "\n",
    "import math\n",
    " \n",
    "def counter():\n",
    "    countprime = 0\n",
    "    prime = 1\n",
    "    count_token = 2\n",
    "    def primecheck(num):\n",
    "        prime = True\n",
    "        for i in range(int(math.sqrt(num))):\n",
    "            i = i+2\n",
    "            if num%i == 0:\n",
    "                prime = False\n",
    "                break\n",
    "        if num == 2:\n",
    "            return True\n",
    "        else:            \n",
    "            return prime\n",
    "    while countprime < 10001:\n",
    "         if primecheck(count_token) == True:\n",
    "             countprime = countprime + 1\n",
    "             prime = count_token\n",
    "         count_token = count_token + 1    \n",
    "    print (\"The 10001'st Prime number is: \",prime)         \n",
    "counter()"
   ]
  },
  {
   "cell_type": "code",
   "execution_count": null,
   "metadata": {},
   "outputs": [],
   "source": []
  }
 ],
 "metadata": {
  "kernelspec": {
   "display_name": "Python 3",
   "language": "python",
   "name": "python3"
  },
  "language_info": {
   "codemirror_mode": {
    "name": "ipython",
    "version": 3
   },
   "file_extension": ".py",
   "mimetype": "text/x-python",
   "name": "python",
   "nbconvert_exporter": "python",
   "pygments_lexer": "ipython3",
   "version": "3.6.5rc1"
  }
 },
 "nbformat": 4,
 "nbformat_minor": 2
}
