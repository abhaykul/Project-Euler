{
 "cells": [
  {
   "cell_type": "code",
   "execution_count": null,
   "metadata": {},
   "outputs": [],
   "source": []
  },
  {
   "cell_type": "code",
   "execution_count": 16,
   "metadata": {},
   "outputs": [
    {
     "name": "stdout",
     "output_type": "stream",
     "text": [
      "-61 971 -59231\n"
     ]
    }
   ],
   "source": [
    "# Euler discovered the remarkable quadratic formula:   n^2 + n + 41\n",
    "\n",
    "# It turns out that the formula will produce 40 primes for the consecutive integer\n",
    "# values 0≤n≤39. However, when n=40,402+40+41=40(40+1)+41 is divisible by 41, and \n",
    "# certainly when n=41,412+41+41 is clearly divisible by 41.\n",
    "\n",
    "# The incredible formula (n^2−79n+1601) was discovered, which produces 80 primes \n",
    "# for the consecutive values 0≤n≤79. The product of the coefficients, −79 and 1601, is −126479.\n",
    "\n",
    "# Considering quadratics of the form:\n",
    "\n",
    "# n2+an+b, where |a|<1000 and |b|≤1000\n",
    "\n",
    "# where |n| is the modulus/absolute value of n\n",
    "# e.g. |11|=11 and |−4|=4\n",
    "# Find the product of the coefficients, a and b, for the quadratic expression that produces the\n",
    "# maximum number of primes for consecutive values of n, starting with n=0.\n",
    "\n",
    "import math\n",
    "from itertools import count\n",
    "def is_prime(x):\n",
    "    if x <= 1:\n",
    "        return False\n",
    "    elif x <= 3:\n",
    "        return True\n",
    "    elif x % 2 == 0:\n",
    "        return False\n",
    "    else:\n",
    "        for i in range(3, int(math.sqrt(x)) + 1, 2):\n",
    "            if x % i == 0:\n",
    "                return False\n",
    "        return True\n",
    "\n",
    "bnum = 0\n",
    "for a in range(-999,1000):\n",
    "    for b in range(max(2,1-a),1000):\n",
    "        num = 0\n",
    "        for n in count():\n",
    "            if not is_prime((n*n)+(a*n)+b):\n",
    "                break\n",
    "            num += 1\n",
    "        if num>bnum:\n",
    "            bnum = num\n",
    "            maxa = a\n",
    "            maxb = b\n",
    "print(maxa,maxb,maxa*maxb)"
   ]
  },
  {
   "cell_type": "code",
   "execution_count": null,
   "metadata": {},
   "outputs": [],
   "source": []
  }
 ],
 "metadata": {
  "kernelspec": {
   "display_name": "Python 3",
   "language": "python",
   "name": "python3"
  },
  "language_info": {
   "codemirror_mode": {
    "name": "ipython",
    "version": 3
   },
   "file_extension": ".py",
   "mimetype": "text/x-python",
   "name": "python",
   "nbconvert_exporter": "python",
   "pygments_lexer": "ipython3",
   "version": "3.6.5rc1"
  }
 },
 "nbformat": 4,
 "nbformat_minor": 2
}
