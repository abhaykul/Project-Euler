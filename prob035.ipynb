{
 "cells": [
  {
   "cell_type": "code",
   "execution_count": 6,
   "metadata": {},
   "outputs": [
    {
     "name": "stdout",
     "output_type": "stream",
     "text": [
      "('1', '1') 1\n",
      "('1', '3') 2\n",
      "('1', '7') 2\n",
      "('3', '7') 2\n",
      "('7', '9') 2\n",
      "('1', '1', '3') 3\n",
      "('1', '9', '7') 3\n",
      "('1', '9', '9') 3\n",
      "('3', '3', '7') 3\n",
      "('1', '1', '9', '3') 4\n",
      "('3', '7', '7', '9') 4\n",
      "('1', '1', '9', '3', '9') 5\n",
      "('1', '9', '9', '3', '7') 5\n",
      "('1', '9', '3', '9', '3', '9') 6\n",
      "('1', '9', '9', '9', '3', '3') 6\n",
      "55\n"
     ]
    }
   ],
   "source": [
    "# The number, 197, is called a circular prime because all rotations of the digits: 197, 971, and 719, are themselves prime.\n",
    "\n",
    "# There are thirteen such primes below 100: 2, 3, 5, 7, 11, 13, 17, 31, 37, 71, 73, 79, and 97.\n",
    "\n",
    "# How many circular primes are there below one million?\n",
    "\n",
    "# Atleast one of the permutation of a number with digits (0,2,4,5,6,8) cant be a prime number\n",
    "# Only 1,3,7,9 can be used\n",
    "from math import sqrt as root\n",
    "import itertools \n",
    "# Checks if a number is Prime ()\n",
    "def is_prime(x):\n",
    "    if x <= 1:\n",
    "        return False\n",
    "    elif x <= 3:\n",
    "        return True\n",
    "    elif x % 2 == 0:\n",
    "        return False\n",
    "    else:\n",
    "        for i in range(3,int(root(x))+ 1, 2):\n",
    "            if x % i == 0:\n",
    "                return False\n",
    "        return True\n",
    "\n",
    "\n",
    "count = 4\n",
    "nb_digits = 6\n",
    "final_numbers = {'1', '3', '7', '9'}\n",
    "for l in range(2, nb_digits+1):\n",
    "    for p in itertools.product(final_numbers, repeat=l):\n",
    "        p_int = int(''.join(p))\n",
    "        perm = {int(''.join(p[i:]+p[:i])) for i in range(len(p))}\n",
    "        if p_int == min(perm) and all(is_prime(n) for n in perm):\n",
    "            print(p, len(perm))\n",
    "            count += len(perm)\n",
    "print (count)\n"
   ]
  },
  {
   "cell_type": "code",
   "execution_count": null,
   "metadata": {},
   "outputs": [],
   "source": []
  }
 ],
 "metadata": {
  "kernelspec": {
   "display_name": "Python 3",
   "language": "python",
   "name": "python3"
  },
  "language_info": {
   "codemirror_mode": {
    "name": "ipython",
    "version": 3
   },
   "file_extension": ".py",
   "mimetype": "text/x-python",
   "name": "python",
   "nbconvert_exporter": "python",
   "pygments_lexer": "ipython3",
   "version": "3.6.5rc1"
  }
 },
 "nbformat": 4,
 "nbformat_minor": 2
}
