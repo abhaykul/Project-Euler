{
 "cells": [
  {
   "cell_type": "code",
   "execution_count": 3,
   "metadata": {},
   "outputs": [
    {
     "name": "stdout",
     "output_type": "stream",
     "text": [
      "4782\n"
     ]
    }
   ],
   "source": [
    "# The Fibonacci sequence is defined by the recurrence relation:\n",
    "\n",
    "# Fn = Fn−1 + Fn−2, where F1 = 1 and F2 = 1.\n",
    "# Hence the first 12 terms will be:\n",
    "\n",
    "# F1 = 1\n",
    "# F2 = 1\n",
    "# F3 = 2\n",
    "# F4 = 3\n",
    "# F5 = 5\n",
    "# F6 = 8\n",
    "# F7 = 13\n",
    "# F8 = 21\n",
    "# F9 = 34\n",
    "# F10 = 55\n",
    "# F11 = 89\n",
    "# F12 = 144\n",
    "# The 12th term, F12, is the first term to contain three digits.\n",
    "\n",
    "# What is the index of the first term in the Fibonacci sequence to contain 1000 digits?\n",
    "import itertools \n",
    "a = 1\n",
    "b = 1\n",
    "for i in itertools.count():\n",
    "    if len(str(a)) > 1000:\n",
    "        print(\"ERROR\")\n",
    "        break\n",
    "    elif len(str(a)) == 1000:\n",
    "        print(str(i+1))\n",
    "        break\n",
    "    a , b = b , a + b"
   ]
  },
  {
   "cell_type": "code",
   "execution_count": null,
   "metadata": {},
   "outputs": [],
   "source": []
  }
 ],
 "metadata": {
  "kernelspec": {
   "display_name": "Python 3",
   "language": "python",
   "name": "python3"
  },
  "language_info": {
   "codemirror_mode": {
    "name": "ipython",
    "version": 3
   },
   "file_extension": ".py",
   "mimetype": "text/x-python",
   "name": "python",
   "nbconvert_exporter": "python",
   "pygments_lexer": "ipython3",
   "version": "3.6.5rc1"
  }
 },
 "nbformat": 4,
 "nbformat_minor": 2
}
