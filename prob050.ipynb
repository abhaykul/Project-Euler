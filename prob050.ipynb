{
 "cells": [
  {
   "cell_type": "code",
   "execution_count": 11,
   "metadata": {},
   "outputs": [
    {
     "name": "stdout",
     "output_type": "stream",
     "text": [
      "997651\n"
     ]
    }
   ],
   "source": [
    "# The prime 41, can be written as the sum of six consecutive primes:\n",
    "\n",
    "# 41 = 2 + 3 + 5 + 7 + 11 + 13\n",
    "# This is the longest sum of consecutive primes that adds to a prime below one-hundred.\n",
    "\n",
    "# The longest sum of consecutive primes below one-thousand that adds to a prime, contains 21 terms, and is equal to 953.\n",
    "\n",
    "# Which prime, below one-million, can be written as the sum of the most consecutive primes?\n",
    "from math import sqrt\n",
    "\n",
    "def prime_sieve(n):\n",
    "    result = [True] * (n + 1)\n",
    "    result[0] = result[1] = False\n",
    "    for i in range(int(sqrt(n) + 1)):\n",
    "        if result[i]:\n",
    "            for j in range(i * i, len(result), i):\n",
    "                result[j] = False\n",
    "    return result\n",
    "\n",
    "def list_primes(n):\n",
    "    return [i for (i, p) in enumerate(prime_sieve(n)) if p]\n",
    "\n",
    "ans = 0\n",
    "isprime = prime_sieve(999999)\n",
    "listOfprime = list_primes(999999)\n",
    "nextt = 0\n",
    "for i in range(len(listOfprime)):\n",
    "    total = listOfprime[i]\n",
    "    counter = 1\n",
    "    for j in range(i + 1, len(listOfprime)):\n",
    "        total += listOfprime[j]\n",
    "        counter += 1\n",
    "        if total >= len(isprime):\n",
    "            break\n",
    "        if isprime[total] and counter > nextt:\n",
    "            ans = total\n",
    "            nextt = counter\n",
    "print(ans)\n",
    "        "
   ]
  },
  {
   "cell_type": "code",
   "execution_count": null,
   "metadata": {},
   "outputs": [],
   "source": []
  }
 ],
 "metadata": {
  "kernelspec": {
   "display_name": "Python 3",
   "language": "python",
   "name": "python3"
  },
  "language_info": {
   "codemirror_mode": {
    "name": "ipython",
    "version": 3
   },
   "file_extension": ".py",
   "mimetype": "text/x-python",
   "name": "python",
   "nbconvert_exporter": "python",
   "pygments_lexer": "ipython3",
   "version": "3.6.5rc1"
  }
 },
 "nbformat": 4,
 "nbformat_minor": 2
}
