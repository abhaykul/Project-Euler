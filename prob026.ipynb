{
 "cells": [
  {
   "cell_type": "code",
   "execution_count": 13,
   "metadata": {},
   "outputs": [
    {
     "name": "stdout",
     "output_type": "stream",
     "text": [
      "983\n"
     ]
    }
   ],
   "source": [
    "# A unit fraction contains 1 in the numerator. The decimal representation of the unit fractions with\n",
    "# denominators 2 to 10 are given:\n",
    "\n",
    "# 1/2 =  0.5\n",
    "# 1/3 =  0.(3)\n",
    "# 1/4 =  0.25\n",
    "# 1/5 =  0.2\n",
    "# 1/6 =  0.1(6)\n",
    "# 1/7 =  0.(142857)\n",
    "# 1/8 =  0.125\n",
    "# 1/9 =  0.(1)\n",
    "# 1/10 = 0.1\n",
    "#  Where 0.1(6) means 0.166666..., and has a 1-digit recurring cycle. It can be seen that 1/7 has a 6-digit recurring cycle.\n",
    "\n",
    "# Find the value of d < 1000 for which 1/d contains the longest recurring cycle in its decimal fraction part.\n",
    "\n",
    "from itertools import count \n",
    "#provides input to recur-length function from d = 1 to 999\n",
    "def main():\n",
    "    ans = max(range(1, 1000), key=recurlen)\n",
    "    return str(ans)\n",
    "\n",
    "def recurlen(n):\n",
    "    present = {}\n",
    "    x = 1\n",
    "    for i in count():\n",
    "        if x in present:\n",
    "            return i - present[x]\n",
    "        else:\n",
    "            present[x] = i\n",
    "            x = x * 10 % n\n",
    "            \n",
    "    \n",
    "if __name__ == \"__main__\":\n",
    "    print(main())"
   ]
  },
  {
   "cell_type": "code",
   "execution_count": null,
   "metadata": {},
   "outputs": [],
   "source": []
  }
 ],
 "metadata": {
  "kernelspec": {
   "display_name": "Python 3",
   "language": "python",
   "name": "python3"
  },
  "language_info": {
   "codemirror_mode": {
    "name": "ipython",
    "version": 3
   },
   "file_extension": ".py",
   "mimetype": "text/x-python",
   "name": "python",
   "nbconvert_exporter": "python",
   "pygments_lexer": "ipython3",
   "version": "3.6.5rc1"
  }
 },
 "nbformat": 4,
 "nbformat_minor": 2
}
