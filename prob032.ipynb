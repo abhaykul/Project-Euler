{
 "cells": [
  {
   "cell_type": "code",
   "execution_count": 1,
   "metadata": {},
   "outputs": [
    {
     "name": "stdout",
     "output_type": "stream",
     "text": [
      "45228\n"
     ]
    }
   ],
   "source": [
    "# We shall say that an n-digit number is pandigital if it makes use of all the digits 1 to n exactly once;\n",
    "# for example, the 5-digit number, 15234, is 1 through 5 pandigital.\n",
    "\n",
    "# The product 7254 is unusual, as the identity, 39 × 186 = 7254, containing multiplicand, multiplier, and\n",
    "# product is 1 through 9 pandigital.\n",
    "\n",
    "# Find the sum of all products whose multiplicand/multiplier/product identity can be written as a 1 through\n",
    "# 9 pandigital.\n",
    "\n",
    "# HINT: Some products can be obtained in more than one way so be sure to only include it once in your sum.\n",
    "\n",
    "import math\n",
    "\n",
    "def pandigital(n):\n",
    "    # find fators of a number, and then check for pandigital condition\n",
    "    for k in range(1,int(math.sqrt(n))+1):\n",
    "        if n % k == 0:\n",
    "            string = str(n) + str(k) + str(n//k)\n",
    "            # the sorted string must be in the 123456789 order to be a pandigital (all 3 terms combined)\n",
    "            if \"\".join(sorted(string))=='123456789':\n",
    "                return True\n",
    "    return False\n",
    "            \n",
    "\n",
    "ans = 0\n",
    "# number of terms must be 8,with the product with the most terms (cant be more than 4)\n",
    "for i in range(1,10000):\n",
    "    if pandigital(i):\n",
    "        ans += i\n",
    "print(ans)\n"
   ]
  },
  {
   "cell_type": "code",
   "execution_count": null,
   "metadata": {},
   "outputs": [],
   "source": []
  }
 ],
 "metadata": {
  "kernelspec": {
   "display_name": "Python 3",
   "language": "python",
   "name": "python3"
  },
  "language_info": {
   "codemirror_mode": {
    "name": "ipython",
    "version": 3
   },
   "file_extension": ".py",
   "mimetype": "text/x-python",
   "name": "python",
   "nbconvert_exporter": "python",
   "pygments_lexer": "ipython3",
   "version": "3.6.5rc1"
  }
 },
 "nbformat": 4,
 "nbformat_minor": 2
}
