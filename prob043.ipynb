{
 "cells": [
  {
   "cell_type": "code",
   "execution_count": 5,
   "metadata": {},
   "outputs": [
    {
     "name": "stdout",
     "output_type": "stream",
     "text": [
      "16695334890\n"
     ]
    }
   ],
   "source": [
    "# The number, 1406357289, is a 0 to 9 pandigital number because it is made up of each of the digits 0 to 9 in some order,\n",
    "# but it also has a rather interesting sub-string divisibility property.\n",
    "\n",
    "# Let d1 be the 1st digit, d2 be the 2nd digit, and so on. In this way, we note the following:\n",
    "\n",
    "# d2*d3*d4=406 is divisible by 2\n",
    "# d3*d4*d5=063 is divisible by 3\n",
    "# d4*d5*d6=635 is divisible by 5\n",
    "# d5*d6*d7=357 is divisible by 7\n",
    "# d6*d7*d8=572 is divisible by 11\n",
    "# d7*d8*d9=728 is divisible by 13\n",
    "# d8*d9d*10=289 is divisible by 17\n",
    "\n",
    "# Find the sum of all 0 to 9 pandigital numbers with this property.\n",
    "import itertools\n",
    "total = 0\n",
    "for i in itertools.permutations(range(10)):\n",
    "    s = \"\".join(map(str,i))\n",
    "    by2 = int(s[1])*100 + int(s[2])*10 + int(s[3])\n",
    "    by3 = int(s[2])*100 + int(s[3])*10 + int(s[4])\n",
    "    by5 = int(s[3])*100 + int(s[4])*10 + int(s[5])\n",
    "    by7 = int(s[4])*100 + int(s[5])*10 + int(s[6])\n",
    "    by11 = int(s[5])*100 + int(s[6])*10 + int(s[7])\n",
    "    by13 = int(s[6])*100 + int(s[7])*10 + int(s[8])\n",
    "    by17 = int(s[7])*100 + int(s[8])*10 + int(s[9])\n",
    "    if by2%2==0 and by3%3==0 and by5%5==0 and by7%7==0 and by11%11==0 and by13%13==0 and by17%17==0:\n",
    "        total+=int(s)\n",
    "print(total)\n",
    "    \n",
    "    "
   ]
  },
  {
   "cell_type": "code",
   "execution_count": null,
   "metadata": {},
   "outputs": [],
   "source": []
  }
 ],
 "metadata": {
  "kernelspec": {
   "display_name": "Python 3",
   "language": "python",
   "name": "python3"
  },
  "language_info": {
   "codemirror_mode": {
    "name": "ipython",
    "version": 3
   },
   "file_extension": ".py",
   "mimetype": "text/x-python",
   "name": "python",
   "nbconvert_exporter": "python",
   "pygments_lexer": "ipython3",
   "version": "3.6.5rc1"
  }
 },
 "nbformat": 4,
 "nbformat_minor": 2
}
