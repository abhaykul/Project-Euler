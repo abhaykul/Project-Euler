{
 "cells": [
  {
   "cell_type": "code",
   "execution_count": 5,
   "metadata": {},
   "outputs": [
    {
     "name": "stdout",
     "output_type": "stream",
     "text": [
      "162\n"
     ]
    }
   ],
   "source": [
    "# The nth term of the sequence of triangle numbers is given by, tn = ½n(n+1); so the first ten triangle numbers are:\n",
    "\n",
    "# 1, 3, 6, 10, 15, 21, 28, 36, 45, 55, ...\n",
    "\n",
    "# By converting each letter in a word to a number corresponding to its alphabetical position and adding these values\n",
    "# we form a word value. For example, the word value for SKY is 19 + 11 + 25 = 55 = t10. If the word value is a triangle\n",
    "# number then we shall call the word a triangle word.\n",
    "\n",
    "# Using words.txt (right click and 'Save Link/Target As...'), a 16K text file containing nearly two-thousand common\n",
    "# English words, how many are triangle words?\n",
    "\n",
    "import itertools\n",
    "\n",
    "txt = open('p042_words.txt').read().replace('\"','').split(',')\n",
    "\n",
    "def is_triangle(n):\n",
    "    num = 0\n",
    "    for i in itertools.count():\n",
    "        num += i\n",
    "        if n == num:\n",
    "            return True\n",
    "        elif n < num:\n",
    "            return False\n",
    "        \n",
    "counter = 0\n",
    "for i in range(0,len(txt)):\n",
    "    word = txt[i]\n",
    "    total = 0\n",
    "    for j in range(0,len(word)):\n",
    "        value = ord(word[j])-ord('A')+1\n",
    "        total += value\n",
    "    if is_triangle(total):\n",
    "        counter+=1\n",
    "print(counter)\n",
    "\n",
    "\n",
    "\n"
   ]
  },
  {
   "cell_type": "code",
   "execution_count": null,
   "metadata": {},
   "outputs": [],
   "source": []
  },
  {
   "cell_type": "code",
   "execution_count": null,
   "metadata": {},
   "outputs": [],
   "source": []
  }
 ],
 "metadata": {
  "kernelspec": {
   "display_name": "Python 3",
   "language": "python",
   "name": "python3"
  },
  "language_info": {
   "codemirror_mode": {
    "name": "ipython",
    "version": 3
   },
   "file_extension": ".py",
   "mimetype": "text/x-python",
   "name": "python",
   "nbconvert_exporter": "python",
   "pygments_lexer": "ipython3",
   "version": "3.6.5rc1"
  }
 },
 "nbformat": 4,
 "nbformat_minor": 2
}
