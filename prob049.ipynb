{
 "cells": [
  {
   "cell_type": "code",
   "execution_count": 3,
   "metadata": {},
   "outputs": [
    {
     "name": "stdout",
     "output_type": "stream",
     "text": [
      "296962999629\n"
     ]
    }
   ],
   "source": [
    "# The arithmetic sequence, 1487, 4817, 8147, in which each of the terms increases by 3330, is unusual in two ways:\n",
    "#    (i) each of the three terms are prime, and,\n",
    "#    (ii) each of the 4-digit numbers are permutations of one another.\n",
    "\n",
    "# There are no arithmetic sequences made up of three 1-, 2-, or 3-digit primes, exhibiting this property, but there\n",
    "# is one other 4-digit increasing sequence.\n",
    "\n",
    "# What 12-digit number do you form by concatenating the three terms in this sequence?\n",
    "from math import sqrt\n",
    "\n",
    "def prime_sieve(n):\n",
    "    result = [True] * (n + 1)\n",
    "    result[0] = result[1] = False\n",
    "    for i in range(int(sqrt(n) + 1)):\n",
    "        if result[i]:\n",
    "            for j in range(i * i, len(result), i):\n",
    "                result[j] = False\n",
    "    return result\n",
    "\n",
    "\n",
    " \n",
    "def main():\n",
    "    MAX = 10000\n",
    "    prime = prime_sieve(MAX - 1)\n",
    "    for i in range(1000,MAX):\n",
    "        # If prime\n",
    "        if prime[i]:\n",
    "            for r in range(1,MAX):# r is the difference between the numbers in arithmetic series\n",
    "                x = i + r\n",
    "                y = i + r + r\n",
    "                if  x < MAX and prime[x] and compare_digits(x, i) and\\\n",
    "                y < MAX and prime[y] and compare_digits(y, i) and\\\n",
    "                (i != 1487 or x != 4817):return str(i) + str(x) + str(y)\n",
    "\n",
    "def compare_digits(n,m):\n",
    "    return sorted(str(n)) == sorted(str(m))\n",
    "\n",
    "if __name__ == \"__main__\":\n",
    "    print(main())"
   ]
  },
  {
   "cell_type": "code",
   "execution_count": null,
   "metadata": {},
   "outputs": [],
   "source": []
  },
  {
   "cell_type": "code",
   "execution_count": null,
   "metadata": {},
   "outputs": [],
   "source": []
  }
 ],
 "metadata": {
  "kernelspec": {
   "display_name": "Python 3",
   "language": "python",
   "name": "python3"
  },
  "language_info": {
   "codemirror_mode": {
    "name": "ipython",
    "version": 3
   },
   "file_extension": ".py",
   "mimetype": "text/x-python",
   "name": "python",
   "nbconvert_exporter": "python",
   "pygments_lexer": "ipython3",
   "version": "3.6.5rc1"
  }
 },
 "nbformat": 4,
 "nbformat_minor": 2
}
