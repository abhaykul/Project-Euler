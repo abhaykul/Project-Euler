{
 "cells": [
  {
   "cell_type": "code",
   "execution_count": 2,
   "metadata": {},
   "outputs": [
    {
     "name": "stdout",
     "output_type": "stream",
     "text": [
      "5777\n"
     ]
    }
   ],
   "source": [
    "# It was proposed by Christian Goldbach that every odd composite number can be written as the sum of a prime and twice a square.\n",
    "# It turns out that the conjecture was false.\n",
    "# What is the smallest odd composite that cannot be written as the sum of a prime and twice a square?\n",
    "n = 5\n",
    "primes = set()\n",
    " \n",
    "while True:\n",
    "    if all(n % p for p in primes):\n",
    "        primes.add(n)\n",
    "    else:\n",
    "        if not any((n-2*i*i) in primes for i in range(1, n)):\n",
    "            break\n",
    "    n+=2\n",
    "print(n)\n"
   ]
  },
  {
   "cell_type": "code",
   "execution_count": null,
   "metadata": {},
   "outputs": [],
   "source": []
  }
 ],
 "metadata": {
  "kernelspec": {
   "display_name": "Python 3",
   "language": "python",
   "name": "python3"
  },
  "language_info": {
   "codemirror_mode": {
    "name": "ipython",
    "version": 3
   },
   "file_extension": ".py",
   "mimetype": "text/x-python",
   "name": "python",
   "nbconvert_exporter": "python",
   "pygments_lexer": "ipython3",
   "version": "3.6.5rc1"
  }
 },
 "nbformat": 4,
 "nbformat_minor": 2
}
