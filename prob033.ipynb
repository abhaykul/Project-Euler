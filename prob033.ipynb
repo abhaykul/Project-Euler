{
 "cells": [
  {
   "cell_type": "code",
   "execution_count": 16,
   "metadata": {},
   "outputs": [
    {
     "name": "stdout",
     "output_type": "stream",
     "text": [
      "(16, 64)\n",
      "(26, 65)\n",
      "(19, 95)\n",
      "(49, 98)\n",
      "100\n"
     ]
    }
   ],
   "source": [
    "# The fraction 49/98 is a curious fraction, as an inexperienced mathematician in attempting to simplify it may\n",
    "# incorrectly believe that 49/98 = 4/8, which is correct, is obtained by cancelling the 9s.\n",
    "\n",
    "# We shall consider fractions like, 30/50 = 3/5, to be trivial examples.\n",
    "\n",
    "# There are exactly four non-trivial examples of this type of fraction, less than one in value, and containing \n",
    "# two digits in the numerator and denominator.\n",
    "\n",
    "# If the product of these four fractions is given in its lowest common terms, find the value of the denominator.\n",
    "\n",
    "# needs to be a non-trivial number hence all the n1=d1 cases arent considered,also n0=d0 is not a possible case\n",
    "# denominator need to be greater than numerator for <1 condition\n",
    "N = 1\n",
    "D = 1\n",
    "import math\n",
    "for d in range(10, 100):\n",
    "    for n in range(10, d):\n",
    "        n0 = n % 10\n",
    "        n1 = n // 10\n",
    "        d0 = d % 10\n",
    "        d1 = d // 10\n",
    "        if (n1 == d0 and n0 * d == n * d1) or (n0 == d1 and n1 * d == n * d0):\n",
    "            N *= n\n",
    "            D *= d\n",
    "            print((n,d))\n",
    "print(str(D // math.gcd(N, D)))\n"
   ]
  },
  {
   "cell_type": "code",
   "execution_count": null,
   "metadata": {},
   "outputs": [],
   "source": []
  }
 ],
 "metadata": {
  "kernelspec": {
   "display_name": "Python 3",
   "language": "python",
   "name": "python3"
  },
  "language_info": {
   "codemirror_mode": {
    "name": "ipython",
    "version": 3
   },
   "file_extension": ".py",
   "mimetype": "text/x-python",
   "name": "python",
   "nbconvert_exporter": "python",
   "pygments_lexer": "ipython3",
   "version": "3.6.5rc1"
  }
 },
 "nbformat": 4,
 "nbformat_minor": 2
}
