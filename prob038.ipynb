{
 "cells": [
  {
   "cell_type": "code",
   "execution_count": 3,
   "metadata": {},
   "outputs": [
    {
     "name": "stdout",
     "output_type": "stream",
     "text": [
      "932718654\n"
     ]
    }
   ],
   "source": [
    "# Take the number 192 and multiply it by each of 1, 2, and 3:\n",
    "\n",
    "# 192 × 1 = 192\n",
    "# 192 × 2 = 384\n",
    "# 192 × 3 = 576\n",
    "# By concatenating each product we get the 1 to 9 pandigital, 192384576. We will call 192384576 the concatenated\n",
    "# product of 192 and (1,2,3)\n",
    "\n",
    "# The same can be achieved by starting with 9 and multiplying by 1, 2, 3, 4, and 5, giving the pandigital, 918273645,\n",
    "# which is the concatenated product of 9 and (1,2,3,4,5).\n",
    "\n",
    "# What is the largest 1 to 9 pandigital 9-digit number that can be formed as the concatenated product of an integer\n",
    "# with (1,2, ... , n) where n > 1?\n",
    "\n",
    "\n",
    "ans = \"\"\n",
    "for n in range(2, 10):\n",
    "    for i in range(1, 10**(9 // n)):\n",
    "            s = \"\".join(str(i * j) for j in range(1, n + 1))\n",
    "            if \"\".join(sorted(s)) == \"123456789\":\n",
    "                ans = max(s, ans)\n",
    "print(ans)"
   ]
  },
  {
   "cell_type": "code",
   "execution_count": null,
   "metadata": {},
   "outputs": [],
   "source": []
  }
 ],
 "metadata": {
  "kernelspec": {
   "display_name": "Python 3",
   "language": "python",
   "name": "python3"
  },
  "language_info": {
   "codemirror_mode": {
    "name": "ipython",
    "version": 3
   },
   "file_extension": ".py",
   "mimetype": "text/x-python",
   "name": "python",
   "nbconvert_exporter": "python",
   "pygments_lexer": "ipython3",
   "version": "3.6.5rc1"
  }
 },
 "nbformat": 4,
 "nbformat_minor": 2
}
