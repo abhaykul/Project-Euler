{
 "cells": [
  {
   "cell_type": "code",
   "execution_count": 32,
   "metadata": {},
   "outputs": [
    {
     "name": "stdout",
     "output_type": "stream",
     "text": [
      "906609\n"
     ]
    }
   ],
   "source": [
    "#A palindromic number reads the same both ways.\n",
    "#The largest palindrome made from the product of two 2-digit numbers is 9009 = 91 × 99.\n",
    "\n",
    "#Find the largest palindrome made from the product of two 3-digit numbers.\n",
    "\n",
    "\n",
    "#This code will return palindrome for 2 n-digit numbers\n",
    "#for the question use n=3\n",
    "def palindrome(n):\n",
    "    num=0\n",
    "    for i in range((10**(n-1)),(10**n),1):\n",
    "        for j in range(i,10**n,1):\n",
    "            k = i*j\n",
    "            if k>num:\n",
    "                k=str(i*j)\n",
    "                if k==k[::-1]:\n",
    "                    num=i*j\n",
    "    return num\n",
    "\n",
    "\n",
    "print(palindrome(3))"
   ]
  },
  {
   "cell_type": "code",
   "execution_count": null,
   "metadata": {},
   "outputs": [],
   "source": []
  },
  {
   "cell_type": "code",
   "execution_count": null,
   "metadata": {},
   "outputs": [],
   "source": []
  }
 ],
 "metadata": {
  "kernelspec": {
   "display_name": "Python 3",
   "language": "python",
   "name": "python3"
  },
  "language_info": {
   "codemirror_mode": {
    "name": "ipython",
    "version": 3
   },
   "file_extension": ".py",
   "mimetype": "text/x-python",
   "name": "python",
   "nbconvert_exporter": "python",
   "pygments_lexer": "ipython3",
   "version": "3.6.5rc1"
  }
 },
 "nbformat": 4,
 "nbformat_minor": 2
}
