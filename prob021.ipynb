{
 "cells": [
  {
   "cell_type": "code",
   "execution_count": 4,
   "metadata": {},
   "outputs": [
    {
     "name": "stdout",
     "output_type": "stream",
     "text": [
      "31626\n"
     ]
    }
   ],
   "source": [
    "# Let d(n) be defined as the sum of proper divisors of n (numbers less than n which divide evenly into n).\n",
    "# If d(a) = b and d(b) = a, where a ≠ b, then a and b are an amicable pair and each of a and b are called amicable numbers.\n",
    "\n",
    "# For example, the proper divisors of 220 are 1, 2, 4, 5, 10, 11, 20, 22, 44, 55 and 110; therefore d(220) = 284.\n",
    "# The proper divisors of 284 are 1, 2, 4, 71 and 142; so d(284) = 220.\n",
    "\n",
    "# Evaluate the sum of all the amicable numbers under 10000.\n",
    "#----------------------too slow-----------------\n",
    "# import math\n",
    "# def factors(x):\n",
    "#     n = 0\n",
    "#     for i in range(1,x+1):\n",
    "#         if x % i == 0:\n",
    "#             n = n+i\n",
    "#     return n-x\n",
    "# ans=0\n",
    "# for i in range(1,10001):\n",
    "#     for j in range(i,10001):\n",
    "#         if factors(i)==j and factors(j)==1:\n",
    "#             ans = ans+i\n",
    "#------------------------------------------------\n",
    "def compute():\n",
    "    dsum = [0] * 10000\n",
    "    for i in range(1, 10000):\n",
    "        for j in range(i*2, 10000, i):\n",
    "            dsum[j] += i\n",
    "    ans = 0\n",
    "    for i in range(1,10000):\n",
    "        j = dsum[i]\n",
    "        if j != i and j < 10000 and dsum[j] == i:\n",
    "            ans += i\n",
    "    return str(ans)\n",
    "\n",
    "print(compute())"
   ]
  },
  {
   "cell_type": "code",
   "execution_count": null,
   "metadata": {},
   "outputs": [],
   "source": []
  }
 ],
 "metadata": {
  "kernelspec": {
   "display_name": "Python 3",
   "language": "python",
   "name": "python3"
  },
  "language_info": {
   "codemirror_mode": {
    "name": "ipython",
    "version": 3
   },
   "file_extension": ".py",
   "mimetype": "text/x-python",
   "name": "python",
   "nbconvert_exporter": "python",
   "pygments_lexer": "ipython3",
   "version": "3.6.5rc1"
  }
 },
 "nbformat": 4,
 "nbformat_minor": 2
}
