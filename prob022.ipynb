{
 "cells": [
  {
   "cell_type": "code",
   "execution_count": 63,
   "metadata": {},
   "outputs": [
    {
     "name": "stdout",
     "output_type": "stream",
     "text": [
      "871198282\n"
     ]
    }
   ],
   "source": [
    "# Using names.txt (right click and 'Save Link/Target As...'), a 46K text file containing over five-thousand first names,\n",
    "# begin by sorting it into alphabetical order. Then working out the alphabetical value for each name, multiply this value\n",
    "# by its alphabetical position in the list to obtain a name score.\n",
    "\n",
    "# For example, when the list is sorted into alphabetical order, COLIN, which is worth 3 + 15 + 12 + 9 + 14 = 53,\n",
    "# is the 938th name in the list. So, COLIN would obtain a score of 938 × 53 = 49714.\n",
    "\n",
    "# What is the total of all the name scores in the file?\n",
    "#---------------------------------------------------------------------\n",
    "# All words are in upper case hence to retrieve the value of each alphabet in the word ord() can be used\n",
    "# ord('A')=65\n",
    "# use inbuilt string functions read(),replace(),split() to format the text file\n",
    "# names are in form \"name1\",\"name2\",...\n",
    "\n",
    "\n",
    "txt = open('prob022_names.txt').read().replace('\"','').split(',')\n",
    "txt.sort()\n",
    "\n",
    "def value(x):\n",
    "    return sum(ord(alphabet)- 64 for alphabet in x)\n",
    "\n",
    "total = 0\n",
    "for i in range(0,len(txt)):\n",
    "    total+=(i+1)*value(txt[i])\n",
    "print(total)\n"
   ]
  },
  {
   "cell_type": "code",
   "execution_count": null,
   "metadata": {},
   "outputs": [],
   "source": []
  },
  {
   "cell_type": "code",
   "execution_count": null,
   "metadata": {},
   "outputs": [],
   "source": []
  }
 ],
 "metadata": {
  "kernelspec": {
   "display_name": "Python 3",
   "language": "python",
   "name": "python3"
  },
  "language_info": {
   "codemirror_mode": {
    "name": "ipython",
    "version": 3
   },
   "file_extension": ".py",
   "mimetype": "text/x-python",
   "name": "python",
   "nbconvert_exporter": "python",
   "pygments_lexer": "ipython3",
   "version": "3.6.5rc1"
  }
 },
 "nbformat": 4,
 "nbformat_minor": 2
}
