{
 "cells": [
  {
   "cell_type": "code",
   "execution_count": 4,
   "metadata": {},
   "outputs": [
    {
     "name": "stdout",
     "output_type": "stream",
     "text": [
      "[1, 1, 2, 2, 3, 4, 5, 6, 7, 8, 11, 12, 15, 16, 19, 22, 25, 28, 31, 34, 41, 44, 51, 54, 61, 68, 75, 82, 89, 96, 109, 116, 129, 136, 149, 162, 175, 188, 201, 214, 236, 249, 271, 284, 306, 328, 350, 372, 394, 416, 451, 473, 508, 530, 565, 600, 635, 670, 705, 740, 793, 828, 881, 916, 969, 1022, 1075, 1128, 1181, 1234, 1311, 1364, 1441, 1494, 1571, 1648, 1725, 1802, 1879, 1956, 2064, 2141, 2249, 2326, 2434, 2542, 2650, 2758, 2866, 2974, 3121, 3229, 3376, 3484, 3631, 3778, 3925, 4072, 4219, 4366, 4563, 4710, 4907, 5054, 5251, 5448, 5645, 5842, 6039, 6236, 6495, 6692, 6951, 7148, 7407, 7666, 7925, 8184, 8443, 8702, 9038, 9297, 9633, 9892, 10228, 10564, 10900, 11236, 11572, 11908, 12337, 12673, 13102, 13438, 13867, 14296, 14725, 15154, 15583, 16012, 16553, 16982, 17523, 17952, 18493, 19034, 19575, 20116, 20657, 21198, 21873, 22414, 23089, 23630, 24305, 24980, 25655, 26330, 27005, 27680, 28514, 29189, 30023, 30698, 31532, 32366, 33200, 34034, 34868, 35702, 36723, 37557, 38578, 39412, 40433, 41454, 42475, 43496, 44517, 45538, 46777, 47798, 49037, 50058, 51297, 52536, 53775, 55014, 56253, 57492, 58983, 60222, 61713, 62952, 64443, 65934, 67425, 68916, 70407, 71898, 73682]\n"
     ]
    }
   ],
   "source": [
    "# In England the currency is made up of pound, £, and pence, p, and there are eight coins in general circulation:\n",
    "\n",
    "# 1p, 2p, 5p, 10p, 20p, 50p, £1 (100p) and £2 (200p).\n",
    "# It is possible to make £2 in the following way:\n",
    "\n",
    "# 1×£1 + 1×50p + 2×20p + 1×5p + 1×2p + 3×1p\n",
    "# How many different ways can £2 be made using any number of coins?\n",
    "\n",
    "total = 200\n",
    "coins = [1,2,5,10,20,50,100,200]\n",
    "permutations = [1]+[0]*total\n",
    "for i in coins:\n",
    "    for j in range(len(permutations)-i):\n",
    "        permutations[i+j]+=permutations[j]\n",
    "print(str(permutations))"
   ]
  },
  {
   "cell_type": "code",
   "execution_count": null,
   "metadata": {},
   "outputs": [],
   "source": []
  }
 ],
 "metadata": {
  "kernelspec": {
   "display_name": "Python 3",
   "language": "python",
   "name": "python3"
  },
  "language_info": {
   "codemirror_mode": {
    "name": "ipython",
    "version": 3
   },
   "file_extension": ".py",
   "mimetype": "text/x-python",
   "name": "python",
   "nbconvert_exporter": "python",
   "pygments_lexer": "ipython3",
   "version": "3.6.5rc1"
  }
 },
 "nbformat": 4,
 "nbformat_minor": 2
}
