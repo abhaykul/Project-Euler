{
 "cells": [
  {
   "cell_type": "code",
   "execution_count": 18,
   "metadata": {},
   "outputs": [
    {
     "name": "stdout",
     "output_type": "stream",
     "text": [
      "872187\n"
     ]
    }
   ],
   "source": [
    "# The decimal number, 585 = 1001001001 (binary), is palindromic in both bases.\n",
    "\n",
    "# Find the sum of all numbers, less than one million, which are palindromic in base 10 and base 2.\n",
    "\n",
    "# (Please note that the palindromic number, in either base, may not include leading zeros.)\n",
    "\n",
    "def Binary(n): \n",
    "    return bin(n).replace(\"0b\",\"\") \n",
    "\n",
    "def Reverse(s):\n",
    "    return s[::-1]\n",
    "total = 0\n",
    "for i in range(1000000):\n",
    "    if str(i) == Reverse(str(i)) and Binary(i) == Reverse(Binary(i)):\n",
    "        total += i\n",
    "print(total)"
   ]
  },
  {
   "cell_type": "code",
   "execution_count": null,
   "metadata": {},
   "outputs": [],
   "source": []
  }
 ],
 "metadata": {
  "kernelspec": {
   "display_name": "Python 3",
   "language": "python",
   "name": "python3"
  },
  "language_info": {
   "codemirror_mode": {
    "name": "ipython",
    "version": 3
   },
   "file_extension": ".py",
   "mimetype": "text/x-python",
   "name": "python",
   "nbconvert_exporter": "python",
   "pygments_lexer": "ipython3",
   "version": "3.6.5rc1"
  }
 },
 "nbformat": 4,
 "nbformat_minor": 2
}
