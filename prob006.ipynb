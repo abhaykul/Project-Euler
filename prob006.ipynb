{
 "cells": [
  {
   "cell_type": "code",
   "execution_count": 6,
   "metadata": {},
   "outputs": [
    {
     "data": {
      "text/plain": [
       "25164150"
      ]
     },
     "execution_count": 6,
     "metadata": {},
     "output_type": "execute_result"
    }
   ],
   "source": [
    "# The sum of the squares of the first ten natural numbers is,\n",
    "\n",
    "# 1^2 + 2^2 + ... + 10^2 = 385\n",
    "\n",
    "# The square of the sum of the first ten natural numbers is,\n",
    "# (1 + 2 + ... + 10)^2 = 552 = 3025\n",
    "# Hence the difference between the sum of the squares of the first ten natural numbers and\n",
    "#   the square of the sum is 3025 − 385 = 2640.\n",
    "# Find the difference between the sum of the squares of the first one hundred natural numbers and the square of the sum.\n",
    "def sumOFsqr(n):\n",
    "    ans = 0\n",
    "    for i in range(1,n+1,1):\n",
    "        ans =ans + i**2\n",
    "    return ans\n",
    "\n",
    "def sumANDsqr(n):\n",
    "    ans = 0\n",
    "    for i in range(1,n+1,1):\n",
    "        ans = ans + i\n",
    "    return ans**2\n",
    "\n",
    "sumANDsqr(100)-sumOFsqr(100)"
   ]
  },
  {
   "cell_type": "code",
   "execution_count": null,
   "metadata": {},
   "outputs": [],
   "source": []
  }
 ],
 "metadata": {
  "kernelspec": {
   "display_name": "Python 3",
   "language": "python",
   "name": "python3"
  },
  "language_info": {
   "codemirror_mode": {
    "name": "ipython",
    "version": 3
   },
   "file_extension": ".py",
   "mimetype": "text/x-python",
   "name": "python",
   "nbconvert_exporter": "python",
   "pygments_lexer": "ipython3",
   "version": "3.6.5rc1"
  }
 },
 "nbformat": 4,
 "nbformat_minor": 2
}
