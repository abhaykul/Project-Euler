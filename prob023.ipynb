{
 "cells": [
  {
   "cell_type": "code",
   "execution_count": 34,
   "metadata": {},
   "outputs": [
    {
     "name": "stdout",
     "output_type": "stream",
     "text": [
      "4179871\n"
     ]
    }
   ],
   "source": [
    "# A perfect number is a number for which the sum of its proper divisors is exactly equal to the number.\n",
    "# For example, the sum of the proper divisors of 28 would be 1 + 2 + 4 + 7 + 14 = 28, which means that 28 is a perfect number.\n",
    "\n",
    "# A number n is called deficient if the sum of its proper divisors is less than n and it is called abundant if this sum exceeds n.\n",
    "\n",
    "# As 12 is the smallest abundant number, 1 + 2 + 3 + 4 + 6 = 16, the smallest number that can be written as the sum\n",
    "# of two abundant numbers is 24. By mathematical analysis, it can be shown that all integers greater than 28123 can be written\n",
    "# as the sum of two abundant numbers. However, this upper limit cannot be reduced any further by analysis even though it is\n",
    "# known that the greatest number that cannot be expressed as the sum of two abundant numbers is less than this limit.\n",
    "\n",
    "# Find the sum of all the positive integers which cannot be written as the sum of two abundant numbers.\n",
    "\n",
    "# Simple Python 3 program to  \n",
    "# find sum of all divisors of \n",
    "# a natural number \n",
    "\n",
    "import math   \n",
    "L = 28124\n",
    "# for computing all the factors of a number\n",
    "def divSum(n) : \n",
    "    result = 0\n",
    "    for i in range(2,(int)(math.sqrt(n))+1) :\n",
    "         if (n % i == 0) : \n",
    "            if (i == (n/i)) : \n",
    "                result = result + i\n",
    "            else : \n",
    "                result = result + (i + n//i) \n",
    "    return (result + 1) \n",
    "# check for abundant number\n",
    "abundant = []\n",
    "for k in range(1,L):\n",
    "    if k < divSum(k):\n",
    "        abundant.append(k)\n",
    "#lists all the sums of abundant values as true\n",
    "listt = [False] * L\n",
    "for i in abundant:\n",
    "    for j in abundant:\n",
    "        if i + j < L:\n",
    "            listt[i + j] = True\n",
    "        else:\n",
    "               break\n",
    "# Print the sum of all False values (\"cannot be expressed as sum\") from range 0 to 28123\n",
    "ans = sum(i for (i, x) in enumerate(listt) if not x)\n",
    "print(ans)\n",
    "\n"
   ]
  },
  {
   "cell_type": "code",
   "execution_count": null,
   "metadata": {},
   "outputs": [],
   "source": []
  }
 ],
 "metadata": {
  "kernelspec": {
   "display_name": "Python 3",
   "language": "python",
   "name": "python3"
  },
  "language_info": {
   "codemirror_mode": {
    "name": "ipython",
    "version": 3
   },
   "file_extension": ".py",
   "mimetype": "text/x-python",
   "name": "python",
   "nbconvert_exporter": "python",
   "pygments_lexer": "ipython3",
   "version": "3.6.5rc1"
  }
 },
 "nbformat": 4,
 "nbformat_minor": 2
}
