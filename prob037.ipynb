{
 "cells": [
  {
   "cell_type": "code",
   "execution_count": 9,
   "metadata": {},
   "outputs": [
    {
     "name": "stdout",
     "output_type": "stream",
     "text": [
      "[23, 37, 53, 73, 313, 317, 373, 797, 3137, 3797, 739397]\n",
      "748317\n"
     ]
    }
   ],
   "source": [
    "# The number 3797 has an interesting property. Being prime itself, it is possible to continuously \n",
    "# remove digits from left to right, and remain prime at each stage: 3797, 797, 97, and 7. Similarly\n",
    "# we can work from right to left: 3797, 379, 37, and 3.\n",
    "\n",
    "# Find the sum of the only eleven primes that are both truncatable from left to right and right to left.\n",
    "\n",
    "# NOTE: 2, 3, 5, and 7 are not considered to be truncatable primes.\n",
    "\n",
    "import itertools\n",
    "import math\n",
    "\n",
    "def is_prime(n):\n",
    "    if n <= 1:\n",
    "        return False\n",
    "    elif n == 2:\n",
    "        return True\n",
    "    elif n % 2 == 0:\n",
    "        return False\n",
    "    else:\n",
    "        for i in range(3,int(math.sqrt(n))+1,2):\n",
    "            if n % i == 0:\n",
    "                return False\n",
    "        return True\n",
    "\n",
    "def left_trunk(x):\n",
    "    s = str(x)\n",
    "    for i in range(1,len(s)):\n",
    "        num = int(s[i:])\n",
    "        if not is_prime(num):\n",
    "            return False\n",
    "    return True\n",
    "        \n",
    "def right_trunk(x):\n",
    "    s = str(x)\n",
    "    for i in range(-1,-len(s),-1):\n",
    "        num = int(s[:i])\n",
    "        if not is_prime(num):\n",
    "            return False\n",
    "    return True            \n",
    "    \n",
    "\n",
    "def main():\n",
    "    numbers = {'1','2','3','5','7','9'}\n",
    "    ls=[]\n",
    "    for i in range(2,7):\n",
    "        for j in itertools.product(numbers,repeat=i):\n",
    "            J = int(\"\".join(j))\n",
    "            if is_prime(J):\n",
    "                    if left_trunk(J):\n",
    "                        if right_trunk(J):\n",
    "                            ls.append(J)\n",
    "    print(sorted(ls))\n",
    "    print(sum(ls))\n",
    "if __name__ == \"__main__\":\n",
    "    main()"
   ]
  },
  {
   "cell_type": "code",
   "execution_count": null,
   "metadata": {},
   "outputs": [],
   "source": []
  }
 ],
 "metadata": {
  "kernelspec": {
   "display_name": "Python 3",
   "language": "python",
   "name": "python3"
  },
  "language_info": {
   "codemirror_mode": {
    "name": "ipython",
    "version": 3
   },
   "file_extension": ".py",
   "mimetype": "text/x-python",
   "name": "python",
   "nbconvert_exporter": "python",
   "pygments_lexer": "ipython3",
   "version": "3.6.5rc1"
  }
 },
 "nbformat": 4,
 "nbformat_minor": 2
}
