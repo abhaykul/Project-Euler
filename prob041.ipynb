{
 "cells": [
  {
   "cell_type": "code",
   "execution_count": 1,
   "metadata": {},
   "outputs": [
    {
     "name": "stdout",
     "output_type": "stream",
     "text": [
      "7652413\n"
     ]
    }
   ],
   "source": [
    "# We shall say that an n-digit number is pandigital if it makes use of all the digits 1 to n exactly once.\n",
    "# For example, 2143 is a 4-digit pandigital and is also prime.\n",
    "\n",
    "# What is the largest n-digit pandigital prime that exists?\n",
    "\n",
    "# A pandigital number that is also prime, can be of 4,7 digits else it'll be divisible by 3\n",
    "# for largest criteria consider only 7 digit numbers-- hence from range 7654321 to 1234567\n",
    "\n",
    "# Primes can't end with (0,2,4,5,6,8)\n",
    "import math\n",
    "END = {0,2,4,5,6,8}\n",
    "def is_prime(n):\n",
    "    if n <= 1:\n",
    "        return False\n",
    "    elif n == 2:\n",
    "        return True\n",
    "    elif n % 2 == 0:\n",
    "        return False\n",
    "    else:\n",
    "        for i in range(3,int(math.sqrt(n))+1,2):\n",
    "            if n % i == 0:\n",
    "                return False\n",
    "        return True\n",
    "\n",
    "for i in range(7654321,1234568,-1):\n",
    "    st = str(i)\n",
    "    if st[-1] not in END:\n",
    "        if is_prime(i):\n",
    "            if sorted(st) == ['1', '2', '3', '4', '5', '6', '7']:\n",
    "                print(i)\n",
    "                break\n",
    "            \n",
    "        \n",
    "    "
   ]
  },
  {
   "cell_type": "code",
   "execution_count": null,
   "metadata": {},
   "outputs": [],
   "source": []
  }
 ],
 "metadata": {
  "kernelspec": {
   "display_name": "Python 3",
   "language": "python",
   "name": "python3"
  },
  "language_info": {
   "codemirror_mode": {
    "name": "ipython",
    "version": 3
   },
   "file_extension": ".py",
   "mimetype": "text/x-python",
   "name": "python",
   "nbconvert_exporter": "python",
   "pygments_lexer": "ipython3",
   "version": "3.6.5rc1"
  }
 },
 "nbformat": 4,
 "nbformat_minor": 2
}
