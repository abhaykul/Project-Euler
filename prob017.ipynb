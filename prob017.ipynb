{
 "cells": [
  {
   "cell_type": "code",
   "execution_count": null,
   "metadata": {},
   "outputs": [],
   "source": [
    "# If the numbers 1 to 5 are written out in words: one, two, three, four, five, then there are\n",
    "#    3 + 3 + 5 + 4 + 4 = 19 letters used in total.\n",
    "\n",
    "# If all the numbers from 1 to 1000 (one thousand) inclusive were written out in words, \n",
    "#  how many letters would be used?\n",
    "\n",
    "# NOTE: Do not count spaces or hyphens. For example, 342 (three hundred and forty-two) contains 23 letters\n",
    "#    and 115 (one hundred and fifteen) contains 20 letters. The use of \"and\" when writing out numbers is in\n",
    "#    compliance with British usage.\n"
   ]
  },
  {
   "cell_type": "code",
   "execution_count": 7,
   "metadata": {},
   "outputs": [
    {
     "data": {
      "text/plain": [
       "21124"
      ]
     },
     "execution_count": 7,
     "metadata": {},
     "output_type": "execute_result"
    }
   ],
   "source": [
    "set1to9 = (3+3+5+4+4+3+5+5+4)\n",
    "set10to19 = (3+6+6+8+8+7+7+9+8+8)\n",
    "mul10s = (6+6+5+5+5+7+6+6)\n",
    "set20to99  = 10*mul10s + 8*set1to9\n",
    "set1to99 = set1to9 + set10to19 + set20to99\n",
    "onesHund = set1to9*100\n",
    "Hund1to99 = set1to99*9\n",
    "Hunds = 7*9\n",
    "HAnd = 10*891\n",
    "TOTAL  = onesHund + Hund1to99 + Hunds + HAnd +set1to99 + 11\n",
    "TOTAL\n",
    "\n",
    "\n"
   ]
  },
  {
   "cell_type": "code",
   "execution_count": null,
   "metadata": {},
   "outputs": [],
   "source": []
  }
 ],
 "metadata": {
  "kernelspec": {
   "display_name": "Python 3",
   "language": "python",
   "name": "python3"
  },
  "language_info": {
   "codemirror_mode": {
    "name": "ipython",
    "version": 3
   },
   "file_extension": ".py",
   "mimetype": "text/x-python",
   "name": "python",
   "nbconvert_exporter": "python",
   "pygments_lexer": "ipython3",
   "version": "3.6.5rc1"
  }
 },
 "nbformat": 4,
 "nbformat_minor": 2
}
