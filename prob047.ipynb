{
 "cells": [
  {
   "cell_type": "code",
   "execution_count": 2,
   "metadata": {},
   "outputs": [
    {
     "name": "stdout",
     "output_type": "stream",
     "text": [
      "134043\n"
     ]
    }
   ],
   "source": [
    "# The first two consecutive numbers to have two distinct prime factors are:\n",
    "\n",
    "# 14 = 2 × 7\n",
    "# 15 = 3 × 5\n",
    "\n",
    "# The first three consecutive numbers to have three distinct prime factors are:\n",
    "\n",
    "# 644 = 2² × 7 × 23\n",
    "# 645 = 3 × 5 × 43\n",
    "# 646 = 2 × 17 × 19.\n",
    "\n",
    "# Find the first four consecutive integers to have four distinct prime factors each. What is the first of these numbers?\n",
    "\n",
    "def num_prime_factor(n):\n",
    "    i = 2\n",
    "    a = set()\n",
    "    while i < n**0.5 or n == 1:\n",
    "        if n % i == 0:\n",
    "            n = n/i\n",
    "            a.add(i)\n",
    "            i -= 1\n",
    "        i += 1\n",
    "    return(len(a)+1)\n",
    "\n",
    "j = 2*3*5*7\n",
    "\n",
    "while True:\n",
    "    # Check if the consecutive numbers hae distinct prime factors too\n",
    "    if num_prime_factor(j) == 4:\n",
    "        j += 1\n",
    "        if num_prime_factor(j) == 4:\n",
    "            j += 1\n",
    "            if num_prime_factor(j) == 4:\n",
    "                j += 1\n",
    "                if num_prime_factor(j) == 4:\n",
    "                    print(j-3)\n",
    "                    break\n",
    "    j += 1\n",
    "\n"
   ]
  },
  {
   "cell_type": "code",
   "execution_count": null,
   "metadata": {},
   "outputs": [],
   "source": []
  }
 ],
 "metadata": {
  "kernelspec": {
   "display_name": "Python 3",
   "language": "python",
   "name": "python3"
  },
  "language_info": {
   "codemirror_mode": {
    "name": "ipython",
    "version": 3
   },
   "file_extension": ".py",
   "mimetype": "text/x-python",
   "name": "python",
   "nbconvert_exporter": "python",
   "pygments_lexer": "ipython3",
   "version": "3.6.5rc1"
  }
 },
 "nbformat": 4,
 "nbformat_minor": 2
}
